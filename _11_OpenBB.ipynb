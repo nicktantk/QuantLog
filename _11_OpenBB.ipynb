{
 "cells": [
  {
   "cell_type": "code",
   "execution_count": null,
   "id": "1986ca4a",
   "metadata": {},
   "outputs": [],
   "source": [
    "import matplotlib.pyplot as plt\n",
    "import numpy as np\n",
    "from mpl_toolkits.mplot3d import Axes3D\n",
    "from openbb import obb\n",
    "obb.user.preferences.output_type = \"dataframe\"\n",
    "\n",
    "calls = obb.derivatives.options.chains(\n",
    "    \"AAPL\",\n",
    "    provider=\"cboe\",\n",
    ")\n",
    "calls = calls[calls.option_type == \"call\"]\n",
    "calls = calls[\n",
    "    (calls.dte < 50) & (calls.strike >= 240) & (calls.strike <=  260)\n",
    "]\n",
    "calls.drop_duplicates(subset=[\"strike\", \"dte\"], keep=False, inplace=True)\n",
    "vol_surface = (\n",
    "    calls.pivot(\n",
    "        index=\"strike\",\n",
    "        columns=\"dte\",\n",
    "        values=\"implied_volatility\"\n",
    "    )\n",
    "    .dropna(how=\"all\", axis=1)\n",
    ")\n",
    "strike, dte = np.meshgrid(\n",
    "    vol_surface.columns,\n",
    "    vol_surface.index\n",
    ")\n",
    "fig = plt.figure(figsize=(15,15))\n",
    "ax = fig.add_subplot(111,projection='3d')\n",
    "ax.set_xlabel(\"Days to Expiration\")\n",
    "ax.set_ylabel(\"Strike Price\")\n",
    "ax.set_zlabel(\"Implied Volatility\")\n",
    "ax.plot_surface(strike, dte, vol_surface.values, cmap='viridis')\n",
    "plt.title(\"AAPL Implied Volatility Surface\")\n"
   ]
  },
  {
   "cell_type": "code",
   "execution_count": null,
   "id": "b9a429fd",
   "metadata": {},
   "outputs": [],
   "source": [
    "import matplotlib.pyplot as plt\n",
    "import numpy as np\n",
    "import pandas as pd\n",
    "import seaborn as sns\n",
    "from openbb import obb\n",
    "obb.user.preferences.output_type = \"dataframe\"\n",
    "\n",
    "data = obb.equity.price.historical(\n",
    "    [\"AAPL\", \"SPY\"],\n",
    "    start_date=\"2024-01-01\",\n",
    "    provider=\"yfinance\"\n",
    ").pivot(columns=\"symbol\", values=\"close\")\n",
    "\n",
    "returns = data.pct_change().dropna()\n",
    "returns = returns.reset_index()\n",
    "\n",
    "melted = pd.melt(\n",
    "    returns,\n",
    "    id_vars=[\"date\"],\n",
    "    value_vars=[\"AAPL\"],\n",
    "    var_name=\"stock\",\n",
    "    value_name=\"returns\"\n",
    ")\n",
    "melted[\"month\"] = pd.to_datetime(melted[\"date\"]).dt.to_period(\"M\")\n",
    "\n",
    "g = sns.boxplot(\n",
    "    x=\"month\",\n",
    "    y=\"returns\",\n",
    "    data=melted\n",
    ")\n",
    "g.set_xticklabels(g.get_xticklabels(), rotation=45)\n"
   ]
  },
  {
   "cell_type": "code",
   "execution_count": 30,
   "id": "d891c9b2",
   "metadata": {},
   "outputs": [
    {
     "data": {
      "text/plain": [
       "<Axes: xlabel='symbol', ylabel='symbol'>"
      ]
     },
     "execution_count": 30,
     "metadata": {},
     "output_type": "execute_result"
    },
    {
     "data": {
      "image/png": "[encoded data removed]",
      "text/plain": [
       "<Figure size 640x480 with 2 Axes>"
      ]
     },
     "metadata": {},
     "output_type": "display_data"
    }
   ],
   "source": [
    "from openbb import obb\n",
    "obb.user.preferences.output_type = \"dataframe\"\n",
    "\n",
    "dow_jones_30 = [\n",
    "    \"MMM\",   # 3M Company\n",
    "    \"AXP\",   # American Express Company\n",
    "    \"AMGN\",  # Amgen Inc.\n",
    "    \"AAPL\",  # Apple Inc.\n",
    "    \"CAT\",   # Caterpillar Inc.\n",
    "    \"CVX\",   # Chevron Corporation\n",
    "    \"CSCO\",  # Cisco Systems, Inc.\n",
    "    \"HON\",   # Honeywell International Inc.\n",
    "    \"IBM\",   # International Business Machines\n",
    "    \"NVDA\",  # Nvidia Corporation (replaced Intel in Nov 2024)\n",
    "    \"JNJ\",   # Johnson & Johnson\n",
    "    \"JPM\",   # JPMorgan Chase & Co.\n",
    "    \"MCD\",   # McDonald's Corporation\n",
    "    \"MRK\",   # Merck & Co., Inc.\n",
    "    \"MSFT\",  # Microsoft Corporation\n",
    "    \"NKE\",   # Nike, Inc.\n",
    "    \"CRM\",   # Salesforce, Inc.\n",
    "    \"BA\",    # The Boeing Company\n",
    "    \"KO\",    # The Coca-Cola Company\n",
    "    \"GS\",    # The Goldman Sachs Group, Inc.\n",
    "    \"HD\",    # The Home Depot, Inc.\n",
    "    \"PG\",    # The Procter & Gamble Company\n",
    "    \"TRV\",   # The Travelers Companies, Inc.\n",
    "    \"DIS\",   # The Walt Disney Company\n",
    "    \"UNH\",   # UnitedHealth Group Incorporated\n",
    "    \"VZ\",    # Verizon Communications Inc.\n",
    "    \"V\",     # Visa Inc.\n",
    "    \"WMT\",   # Walmart Inc.\n",
    "    \"AMZN\",  # Amazon.com, Inc. (added Feb 2024)\n",
    "    \"SHW\"    # Sherwin-Williams (added Nov 2024)\n",
    "]\n",
    "dji_data = obb.equity.price.historical(\n",
    "    dow_jones_30,\n",
    "    start_date=\"2024-01-01\",\n",
    "    provider=\"yfinance\"\n",
    ").pivot(columns=\"symbol\", values=\"close\")\n",
    "dji_returns = dji_data.pct_change().dropna()\n",
    "corr = dji_returns.corr()\n",
    "mask = np.triu(np.ones_like(corr, dtype=bool))\n",
    "cmap = sns.diverging_palette(230, 20, as_cmap=True)\n",
    "plt.rcParams[\"font.size\"] = 4\n",
    "sns.heatmap(\n",
    "    corr,\n",
    "    mask=mask,\n",
    "    cmap=cmap,\n",
    "    vmax=1.0,\n",
    "    vmin=-1.0,\n",
    "    center=0,\n",
    "    square=True,\n",
    "    linewidths=.5,\n",
    "    cbar_kws={\"shrink\": .5},\n",
    "    fmt=\".2f\"\n",
    ")"
   ]
  },
  {
   "cell_type": "code",
   "execution_count": 2,
   "id": "39ba4399",
   "metadata": {},
   "outputs": [
    {
     "data": {
      "application/vnd.plotly.v1+json": {
       "config": {
        "plotlyServerURL": "https://plot.ly"
       },
       "data": [
        {
         "mode": "lines+markers",
         "name": "Cumulative variance",
         "type": "scatter",
         "x": [
          "PC1",
          "PC2",
          "PC3",
          "PC4",
          "PC5",
          "PC6",
          "PC7",
          "PC8"
         ],
         "y": {
          "bdata": "5293cgVM1D9ElgVWlt3bP+ryRr7fSOA/OjpYDDnk4T+1a2Ea13njPxB2n9shseQ/jNhYxfPZ5T+DSrSjfM3mPw==",
          "dtype": "f8"
         },
         "yaxis": "y2"
        }
       ],
       "layout": {
        "legend": {
         "orientation": "h",
         "x": 1,
         "xanchor": "right",
         "y": 1.02,
         "yanchor": "bottom"
        },
        "template": {
         "data": {
          "bar": [
           {
            "error_x": {
             "color": "#2a3f5f"
            },
            "error_y": {
             "color": "#2a3f5f"
            },
            "marker": {
             "line": {
              "color": "#E5ECF6",
              "width": 0.5
             },
             "pattern": {
              "fillmode": "overlay",
              "size": 10,
              "solidity": 0.2
             }
            },
            "type": "bar"
           }
          ],
          "barpolar": [
           {
            "marker": {
             "line": {
              "color": "#E5ECF6",
              "width": 0.5
             },
             "pattern": {
              "fillmode": "overlay",
              "size": 10,
              "solidity": 0.2
             }
            },
            "type": "barpolar"
           }
          ],
          "carpet": [
           {
            "aaxis": {
             "endlinecolor": "#2a3f5f",
             "gridcolor": "white",
             "linecolor": "white",
             "minorgridcolor": "white",
             "startlinecolor": "#2a3f5f"
            },
            "baxis": {
             "endlinecolor": "#2a3f5f",
             "gridcolor": "white",
             "linecolor": "white",
             "minorgridcolor": "white",
             "startlinecolor": "#2a3f5f"
            },
            "type": "carpet"
           }
          ],
          "choropleth": [
           {
            "colorbar": {
             "outlinewidth": 0,
             "ticks": ""
            },
            "type": "choropleth"
           }
          ],
          "contour": [
           {
            "colorbar": {
             "outlinewidth": 0,
             "ticks": ""
            },
            "colorscale": [
             [
              0,
              "#0d0887"
             ],
             [
              0.1111111111111111,
              "#46039f"
             ],
             [
              0.2222222222222222,
              "#7201a8"
             ],
             [
              0.3333333333333333,
              "#9c179e"
             ],
             [
              0.4444444444444444,
              "#bd3786"
             ],
             [
              0.5555555555555556,
              "#d8576b"
             ],
             [
              0.6666666666666666,
              "#ed7953"
             ],
             [
              0.7777777777777778,
              "#fb9f3a"
             ],
             [
              0.8888888888888888,
              "#fdca26"
             ],
             [
              1,
              "#f0f921"
             ]
            ],
            "type": "contour"
           }
          ],
          "contourcarpet": [
           {
            "colorbar": {
             "outlinewidth": 0,
             "ticks": ""
            },
            "type": "contourcarpet"
           }
          ],
          "heatmap": [
           {
            "colorbar": {
             "outlinewidth": 0,
             "ticks": ""
            },
            "colorscale": [
             [
              0,
              "#0d0887"
             ],
             [
              0.1111111111111111,
              "#46039f"
             ],
             [
              0.2222222222222222,
              "#7201a8"
             ],
             [
              0.3333333333333333,
              "#9c179e"
             ],
             [
              0.4444444444444444,
              "#bd3786"
             ],
             [
              0.5555555555555556,
              "#d8576b"
             ],
             [
              0.6666666666666666,
              "#ed7953"
             ],
             [
              0.7777777777777778,
              "#fb9f3a"
             ],
             [
              0.8888888888888888,
              "#fdca26"
             ],
             [
              1,
              "#f0f921"
             ]
            ],
            "type": "heatmap"
           }
          ],
          "histogram": [
           {
            "marker": {
             "pattern": {
              "fillmode": "overlay",
              "size": 10,
              "solidity": 0.2
             }
            },
            "type": "histogram"
           }
          ],
          "histogram2d": [
           {
            "colorbar": {
             "outlinewidth": 0,
             "ticks": ""
            },
            "colorscale": [
             [
              0,
              "#0d0887"
             ],
             [
              0.1111111111111111,
              "#46039f"
             ],
             [
              0.2222222222222222,
              "#7201a8"
             ],
             [
              0.3333333333333333,
              "#9c179e"
             ],
             [
              0.4444444444444444,
              "#bd3786"
             ],
             [
              0.5555555555555556,
              "#d8576b"
             ],
             [
              0.6666666666666666,
              "#ed7953"
             ],
             [
              0.7777777777777778,
              "#fb9f3a"
             ],
             [
              0.8888888888888888,
              "#fdca26"
             ],
             [
              1,
              "#f0f921"
             ]
            ],
            "type": "histogram2d"
           }
          ],
          "histogram2dcontour": [
           {
            "colorbar": {
             "outlinewidth": 0,
             "ticks": ""
            },
            "colorscale": [
             [
              0,
              "#0d0887"
             ],
             [
              0.1111111111111111,
              "#46039f"
             ],
             [
              0.2222222222222222,
              "#7201a8"
             ],
             [
              0.3333333333333333,
              "#9c179e"
             ],
             [
              0.4444444444444444,
              "#bd3786"
             ],
             [
              0.5555555555555556,
              "#d8576b"
             ],
             [
              0.6666666666666666,
              "#ed7953"
             ],
             [
              0.7777777777777778,
              "#fb9f3a"
             ],
             [
              0.8888888888888888,
              "#fdca26"
             ],
             [
              1,
              "#f0f921"
             ]
            ],
            "type": "histogram2dcontour"
           }
          ],
          "mesh3d": [
           {
            "colorbar": {
             "outlinewidth": 0,
             "ticks": ""
            },
            "type": "mesh3d"
           }
          ],
          "parcoords": [
           {
            "line": {
             "colorbar": {
              "outlinewidth": 0,
              "ticks": ""
             }
            },
            "type": "parcoords"
           }
          ],
          "pie": [
           {
            "automargin": true,
            "type": "pie"
           }
          ],
          "scatter": [
           {
            "fillpattern": {
             "fillmode": "overlay",
             "size": 10,
             "solidity": 0.2
            },
            "type": "scatter"
           }
          ],
          "scatter3d": [
           {
            "line": {
             "colorbar": {
              "outlinewidth": 0,
              "ticks": ""
             }
            },
            "marker": {
             "colorbar": {
              "outlinewidth": 0,
              "ticks": ""
             }
            },
            "type": "scatter3d"
           }
          ],
          "scattercarpet": [
           {
            "marker": {
             "colorbar": {
              "outlinewidth": 0,
              "ticks": ""
             }
            },
            "type": "scattercarpet"
           }
          ],
          "scattergeo": [
           {
            "marker": {
             "colorbar": {
              "outlinewidth": 0,
              "ticks": ""
             }
            },
            "type": "scattergeo"
           }
          ],
          "scattergl": [
           {
            "marker": {
             "colorbar": {
              "outlinewidth": 0,
              "ticks": ""
             }
            },
            "type": "scattergl"
           }
          ],
          "scattermap": [
           {
            "marker": {
             "colorbar": {
              "outlinewidth": 0,
              "ticks": ""
             }
            },
            "type": "scattermap"
           }
          ],
          "scattermapbox": [
           {
            "marker": {
             "colorbar": {
              "outlinewidth": 0,
              "ticks": ""
             }
            },
            "type": "scattermapbox"
           }
          ],
          "scatterpolar": [
           {
            "marker": {
             "colorbar": {
              "outlinewidth": 0,
              "ticks": ""
             }
            },
            "type": "scatterpolar"
           }
          ],
          "scatterpolargl": [
           {
            "marker": {
             "colorbar": {
              "outlinewidth": 0,
              "ticks": ""
             }
            },
            "type": "scatterpolargl"
           }
          ],
          "scatterternary": [
           {
            "marker": {
             "colorbar": {
              "outlinewidth": 0,
              "ticks": ""
             }
            },
            "type": "scatterternary"
           }
          ],
          "surface": [
           {
            "colorbar": {
             "outlinewidth": 0,
             "ticks": ""
            },
            "colorscale": [
             [
              0,
              "#0d0887"
             ],
             [
              0.1111111111111111,
              "#46039f"
             ],
             [
              0.2222222222222222,
              "#7201a8"
             ],
             [
              0.3333333333333333,
              "#9c179e"
             ],
             [
              0.4444444444444444,
              "#bd3786"
             ],
             [
              0.5555555555555556,
              "#d8576b"
             ],
             [
              0.6666666666666666,
              "#ed7953"
             ],
             [
              0.7777777777777778,
              "#fb9f3a"
             ],
             [
              0.8888888888888888,
              "#fdca26"
             ],
             [
              1,
              "#f0f921"
             ]
            ],
            "type": "surface"
           }
          ],
          "table": [
           {
            "cells": {
             "fill": {
              "color": "#EBF0F8"
             },
             "line": {
              "color": "white"
             }
            },
            "header": {
             "fill": {
              "color": "#C8D4E3"
             },
             "line": {
              "color": "white"
             }
            },
            "type": "table"
           }
          ]
         },
         "layout": {
          "annotationdefaults": {
           "arrowcolor": "#2a3f5f",
           "arrowhead": 0,
           "arrowwidth": 1
          },
          "autotypenumbers": "strict",
          "coloraxis": {
           "colorbar": {
            "outlinewidth": 0,
            "ticks": ""
           }
          },
          "colorscale": {
           "diverging": [
            [
             0,
             "#8e0152"
            ],
            [
             0.1,
             "#c51b7d"
            ],
            [
             0.2,
             "#de77ae"
            ],
            [
             0.3,
             "#f1b6da"
            ],
            [
             0.4,
             "#fde0ef"
            ],
            [
             0.5,
             "#f7f7f7"
            ],
            [
             0.6,
             "#e6f5d0"
            ],
            [
             0.7,
             "#b8e186"
            ],
            [
             0.8,
             "#7fbc41"
            ],
            [
             0.9,
             "#4d9221"
            ],
            [
             1,
             "#276419"
            ]
           ],
           "sequential": [
            [
             0,
             "#0d0887"
            ],
            [
             0.1111111111111111,
             "#46039f"
            ],
            [
             0.2222222222222222,
             "#7201a8"
            ],
            [
             0.3333333333333333,
             "#9c179e"
            ],
            [
             0.4444444444444444,
             "#bd3786"
            ],
            [
             0.5555555555555556,
             "#d8576b"
            ],
            [
             0.6666666666666666,
             "#ed7953"
            ],
            [
             0.7777777777777778,
             "#fb9f3a"
            ],
            [
             0.8888888888888888,
             "#fdca26"
            ],
            [
             1,
             "#f0f921"
            ]
           ],
           "sequentialminus": [
            [
             0,
             "#0d0887"
            ],
            [
             0.1111111111111111,
             "#46039f"
            ],
            [
             0.2222222222222222,
             "#7201a8"
            ],
            [
             0.3333333333333333,
             "#9c179e"
            ],
            [
             0.4444444444444444,
             "#bd3786"
            ],
            [
             0.5555555555555556,
             "#d8576b"
            ],
            [
             0.6666666666666666,
             "#ed7953"
            ],
            [
             0.7777777777777778,
             "#fb9f3a"
            ],
            [
             0.8888888888888888,
             "#fdca26"
            ],
            [
             1,
             "#f0f921"
            ]
           ]
          },
          "colorway": [
           "#636efa",
           "#EF553B",
           "#00cc96",
           "#ab63fa",
           "#FFA15A",
           "#19d3f3",
           "#FF6692",
           "#B6E880",
           "#FF97FF",
           "#FECB52"
          ],
          "font": {
           "color": "#2a3f5f"
          },
          "geo": {
           "bgcolor": "white",
           "lakecolor": "white",
           "landcolor": "#E5ECF6",
           "showlakes": true,
           "showland": true,
           "subunitcolor": "white"
          },
          "hoverlabel": {
           "align": "left"
          },
          "hovermode": "closest",
          "mapbox": {
           "style": "light"
          },
          "paper_bgcolor": "white",
          "plot_bgcolor": "#E5ECF6",
          "polar": {
           "angularaxis": {
            "gridcolor": "white",
            "linecolor": "white",
            "ticks": ""
           },
           "bgcolor": "#E5ECF6",
           "radialaxis": {
            "gridcolor": "white",
            "linecolor": "white",
            "ticks": ""
           }
          },
          "scene": {
           "xaxis": {
            "backgroundcolor": "#E5ECF6",
            "gridcolor": "white",
            "gridwidth": 2,
            "linecolor": "white",
            "showbackground": true,
            "ticks": "",
            "zerolinecolor": "white"
           },
           "yaxis": {
            "backgroundcolor": "#E5ECF6",
            "gridcolor": "white",
            "gridwidth": 2,
            "linecolor": "white",
            "showbackground": true,
            "ticks": "",
            "zerolinecolor": "white"
           },
           "zaxis": {
            "backgroundcolor": "#E5ECF6",
            "gridcolor": "white",
            "gridwidth": 2,
            "linecolor": "white",
            "showbackground": true,
            "ticks": "",
            "zerolinecolor": "white"
           }
          },
          "shapedefaults": {
           "line": {
            "color": "#2a3f5f"
           }
          },
          "ternary": {
           "aaxis": {
            "gridcolor": "white",
            "linecolor": "white",
            "ticks": ""
           },
           "baxis": {
            "gridcolor": "white",
            "linecolor": "white",
            "ticks": ""
           },
           "bgcolor": "#E5ECF6",
           "caxis": {
            "gridcolor": "white",
            "linecolor": "white",
            "ticks": ""
           }
          },
          "title": {
           "x": 0.05
          },
          "xaxis": {
           "automargin": true,
           "gridcolor": "white",
           "linecolor": "white",
           "ticks": "",
           "title": {
            "standoff": 15
           },
           "zerolinecolor": "white",
           "zerolinewidth": 2
          },
          "yaxis": {
           "automargin": true,
           "gridcolor": "white",
           "linecolor": "white",
           "ticks": "",
           "title": {
            "standoff": 15
           },
           "zerolinecolor": "white",
           "zerolinewidth": 2
          }
         }
        },
        "title": {
         "text": "Explained Variance and Cumulative Variance"
        },
        "xaxis": {
         "title": {
          "text": "Principal Components"
         }
        },
        "yaxis": {
         "title": {
          "text": "Explained variance ratio"
         }
        },
        "yaxis2": {
         "overlaying": "y",
         "range": [
          0,
          1
         ],
         "side": "right",
         "title": {
          "text": "Cumulative variance"
         }
        }
       }
      }
     },
     "metadata": {},
     "output_type": "display_data"
    }
   ],
   "source": [
    "from openbb import obb\n",
    "from sklearn.decomposition import PCA\n",
    "import numpy as np\n",
    "import pandas as pd\n",
    "import plotly.graph_objs as go\n",
    "\n",
    "obb.user.preferences.output_type = \"dataframe\"\n",
    "\n",
    "dow_jones_30 = [\n",
    "    \"MMM\",   # 3M Company\n",
    "    \"AXP\",   # American Express Company\n",
    "    \"AMGN\",  # Amgen Inc.\n",
    "    \"AAPL\",  # Apple Inc.\n",
    "    \"CAT\",   # Caterpillar Inc.\n",
    "    \"CVX\",   # Chevron Corporation\n",
    "    \"CSCO\",  # Cisco Systems, Inc.\n",
    "    \"HON\",   # Honeywell International Inc.\n",
    "    \"IBM\",   # International Business Machines\n",
    "    \"NVDA\",  # Nvidia Corporation (replaced Intel in Nov 2024)\n",
    "    \"JNJ\",   # Johnson & Johnson\n",
    "    \"JPM\",   # JPMorgan Chase & Co.\n",
    "    \"MCD\",   # McDonald's Corporation\n",
    "    \"MRK\",   # Merck & Co., Inc.\n",
    "    \"MSFT\",  # Microsoft Corporation\n",
    "    \"NKE\",   # Nike, Inc.\n",
    "    \"CRM\",   # Salesforce, Inc.\n",
    "    \"BA\",    # The Boeing Company\n",
    "    \"KO\",    # The Coca-Cola Company\n",
    "    \"GS\",    # The Goldman Sachs Group, Inc.\n",
    "    \"HD\",    # The Home Depot, Inc.\n",
    "    \"PG\",    # The Procter & Gamble Company\n",
    "    \"TRV\",   # The Travelers Companies, Inc.\n",
    "    \"DIS\",   # The Walt Disney Company\n",
    "    \"UNH\",   # UnitedHealth Group Incorporated\n",
    "    \"VZ\",    # Verizon Communications Inc.\n",
    "    \"V\",     # Visa Inc.\n",
    "    \"WMT\",   # Walmart Inc.\n",
    "    \"AMZN\",  # Amazon.com, Inc. (added Feb 2024)\n",
    "    \"SHW\"    # Sherwin-Williams (added Nov 2024)\n",
    "    \n",
    "]\n",
    "\n",
    "data = obb.equity.price.historical(\n",
    "    dow_jones_30,\n",
    "    start_date=\"2024-01-01\",\n",
    "    provider=\"yfinance\"\n",
    ").pivot(columns=\"symbol\", values=\"close\")\n",
    "returns = data.pct_change().dropna()\n",
    "pca = PCA(n_components=8)\n",
    "pca.fit(returns)\n",
    "components = pca.transform(returns)\n",
    "explained_variance = pca.explained_variance_ratio_\n",
    "\n",
    "# explained variance plot\n",
    "pcs = [f\"PC{i+1}\" for i in range(len(explained_variance))]\n",
    "cum_var = np.cumsum(explained_variance)\n",
    "line = go.Scatter(x=pcs, y=cum_var, mode=\"lines+markers\", name=\"Cumulative variance\", yaxis=\"y2\")\n",
    "\n",
    "fig = go.Figure(data=[line])\n",
    "fig.update_layout(\n",
    "    title=\"Explained Variance and Cumulative Variance\",\n",
    "    xaxis_title=\"Principal Components\",\n",
    "    yaxis=dict(title=\"Explained variance ratio\"),\n",
    "    yaxis2=dict(title=\"Cumulative variance\", overlaying=\"y\", side=\"right\", range=[0,1]),\n",
    "    legend=dict(orientation=\"h\", yanchor=\"bottom\", y=1.02, xanchor=\"right\", x=1)\n",
    ")\n",
    "fig.show()\n",
    "\n"
   ]
  },
  {
   "cell_type": "code",
   "execution_count": 4,
   "id": "5cc530b3",
   "metadata": {},
   "outputs": [
    {
     "name": "stdout",
     "output_type": "stream",
     "text": [
      "PC1 ≈ +0.3915·NVDA +0.2707·GS +0.2695·AXP +0.2676·AMZN +0.2403·CAT +0.2383·CRM +0.2360·BA +0.2223·NKE +0.2200·MMM +0.2191·AAPL  (top 10 terms)\n",
      "PC2 ≈ +0.7045·NVDA -0.2106·JNJ -0.2024·UNH -0.1878·VZ -0.1853·AMGN -0.1823·TRV -0.1794·NKE -0.1750·PG -0.1704·MRK -0.1662·MMM  (top 10 terms)\n",
      "PC3 ≈ +0.8859·UNH -0.3356·NKE +0.1789·NVDA +0.1499·CRM -0.1286·BA -0.1006·DIS +0.0912·AMGN -0.0683·AAPL +0.0388·MCD +0.0314·V  (top 10 terms)\n",
      "PC4 ≈ +0.4551·BA -0.3362·NVDA -0.3017·MRK -0.2874·AMGN -0.2758·NKE +0.2676·JPM +0.2445·GS +0.2144·AXP -0.1958·PG -0.1711·AAPL  (top 10 terms)\n",
      "PC5 ≈ +0.5711·NKE +0.4414·BA +0.3177·UNH -0.2144·JPM -0.2124·TRV -0.2030·GS -0.1891·MMM -0.1871·IBM +0.1784·AMZN -0.1717·CAT  (top 10 terms)\n",
      "PC6 ≈ +0.7183·CRM -0.4573·BA -0.3285·NVDA +0.2007·AMZN +0.1518·MSFT -0.1458·AMGN -0.1365·VZ -0.1360·MRK -0.1079·CVX +0.0916·NKE  (top 10 terms)\n",
      "PC7 ≈ +0.4878·NKE -0.4630·BA -0.3584·CRM +0.2493·DIS -0.2057·AAPL +0.2012·UNH +0.1848·MMM -0.1806·WMT +0.1691·CAT -0.1569·AMGN  (top 10 terms)\n",
      "PC8 ≈ +0.8489·MMM -0.2296·DIS -0.1889·CVX -0.1646·VZ -0.1637·IBM -0.1395·AXP -0.1358·GS -0.1319·JPM +0.1075·HD -0.1035·CAT  (top 10 terms)\n"
     ]
    }
   ],
   "source": [
    "# Loadings DataFrame: rows are PCs, columns are tickers\n",
    "loadings = pd.DataFrame(\n",
    "    pca.components_,\n",
    "    index=[f\"PC{i+1}\" for i in range(pca.n_components_)],\n",
    "    columns=returns.columns\n",
    ")\n",
    "\n",
    "# Show top contributors per PC (by absolute weight)\n",
    "top_k = 8\n",
    "top_contributors = {\n",
    "    pc: loadings.loc[pc].abs().sort_values(ascending=False).head(top_k)\n",
    "    for pc in loadings.index\n",
    "}\n",
    "\n",
    "# Display weights for each PC (full table)\n",
    "loadings\n",
    "\n",
    "def pc_formula(pc_name, k=10):\n",
    "    s = loadings.loc[pc_name]\n",
    "    s_sorted = s.sort_values(key=np.abs, ascending=False).head(k)\n",
    "    terms = [f\"{w:+.4f}·{t}\" for t, w in s_sorted.items()]\n",
    "    return f\"{pc_name} ≈ \" + \" \".join(terms) + \"  (top \" + str(k) + \" terms)\"\n",
    "\n",
    "for pc in loadings.index:\n",
    "    print(pc_formula(pc, k=10))\n",
    "\n"
   ]
  }
 ],
 "metadata": {
  "kernelspec": {
   "display_name": "my-quant-stack",
   "language": "python",
   "name": "python3"
  },
  "language_info": {
   "codemirror_mode": {
    "name": "ipython",
    "version": 3
   },
   "file_extension": ".py",
   "mimetype": "text/x-python",
   "name": "python",
   "nbconvert_exporter": "python",
   "pygments_lexer": "ipython3",
   "version": "3.10.18"
  }
 },
 "nbformat": 4,
 "nbformat_minor": 5
}
