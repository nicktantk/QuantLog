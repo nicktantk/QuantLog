{
 "cells": [
  {
   "cell_type": "code",
   "execution_count": 5,
   "id": "a6276f36",
   "metadata": {},
   "outputs": [],
   "source": [
    "import numpy as np\n",
    "import pandas as pd\n",
    "import matplotlib.pyplot as plt\n",
    "import statsmodels.api as sm"
   ]
  },
  {
   "cell_type": "code",
   "execution_count": 13,
   "id": "d57531f8",
   "metadata": {},
   "outputs": [
    {
     "name": "stdout",
     "output_type": "stream",
     "text": [
      "hedgeRatio: 5.90876926061392\n",
      "spreadMean:  2.890206686042017\n",
      "spreadStd: 15.829316874548304\n"
     ]
    }
   ],
   "source": [
    "# Finding hedge ratio and entry exit conditions\n",
    "\n",
    "df1 = pd.read_excel('./excels/GLD.xlsx')\n",
    "df2 = pd.read_excel('./excels/GDX.xlsx')\n",
    "df = pd.merge(df1, df2, on='Date', suffixes=('_GLD', '_GDX'))\n",
    "df.sort_values(by='Date', inplace=True)\n",
    "\n",
    "trainset_range = 900\n",
    "model = sm.OLS(df['Close_GLD'].iloc[:trainset_range],\n",
    "             df['Close_GDX'].iloc[:trainset_range]) # ordinary least squares \n",
    "results = model.fit()\n",
    "hedgeRatio = results.params # gradient of GLD against GDX\n",
    "print(\"hedgeRatio:\", hedgeRatio.iloc[0])\n",
    "\n",
    "spread = df['Close_GLD'] - hedgeRatio.iloc[0]*df['Close_GDX']\n",
    "\n",
    "spreadMean = np.mean(spread.iloc[trainset])\n",
    "print(\"spreadMean: \", spreadMean)\n",
    "spreadStd = np.std(spread.iloc[trainset])\n",
    "print(\"spreadStd:\", spreadStd)\n",
    "df['zscore'] = (spread-spreadMean)/spreadStd\n",
    "df['positions_GLD_Long'] = 0\n",
    "df['positions_GDX_Long'] = 0\n",
    "df['positions_GLD_Short'] = 0\n",
    "df['positions_GDX_Short'] = 0\n",
    "df.loc[df.zscore >= 0.4, ('positions_GLD_Short', 'positions_GDX_Short')] = [-1, 1]  # Short spread\n",
    "df.loc[df.zscore <= -0.4, ('positions_GLD_Long', 'positions_GDX_Long')] = [1, -1]  # Buy spread\n",
    "df.loc[df.zscore < 0, ('positions_GLD_Short', 'positions_GDX_Short')] = 0  # Exit short spread\n",
    "df.loc[df.zscore > 0, ('positions_GLD_Long', 'positions_GDX_Long')] = 0  # Exit long spread\n",
    "df.ffill(inplace=True)  # ensure existing positions are carried forward unless there is an exit signal"
   ]
  },
  {
   "cell_type": "code",
   "execution_count": 15,
   "id": "21d13530",
   "metadata": {},
   "outputs": [],
   "source": [
    "# Derive resulting positions\n",
    "\n",
    "df['net_positions_GLD'] = df['positions_GLD_Long'] + df['positions_GLD_Short']\n",
    "df['net_positions_GDX'] = df['positions_GDX_Long'] + df['positions_GDX_Short']\n",
    "df[['net_positions_GLD_lagged', 'net_positions_GDX_lagged']] = df[['net_positions_GLD', 'net_positions_GDX']].shift(1)\n",
    "df[['GLD_returns', 'GDX_returns']] = df[['Close_GLD', 'Close_GDX']].pct_change()\n",
    "df['strategy_returns'] = (df['net_positions_GLD_lagged'] * df['GLD_returns'] +\n",
    "                          df['net_positions_GDX_lagged'] * df['GDX_returns'])\n",
    "df['strategy_return'] = df['strategy_returns'].fillna(0)"
   ]
  },
  {
   "cell_type": "code",
   "execution_count": 17,
   "id": "f24116fc",
   "metadata": {},
   "outputs": [
    {
     "name": "stdout",
     "output_type": "stream",
     "text": [
      "sharpeTrainset: 0.8282403183199433\n",
      "sharpeTestset: 0.885703792364647\n",
      "      positions_GLD_Long  positions_GDX_Long  positions_GLD_Short  \\\n",
      "2504                   1                  -1                    0   \n",
      "2505                   1                  -1                    0   \n",
      "2506                   1                  -1                    0   \n",
      "2507                   0                   0                    0   \n",
      "2508                   0                   0                    0   \n",
      "2509                   0                   0                    0   \n",
      "2510                   0                   0                    0   \n",
      "2511                   0                   0                    0   \n",
      "2512                   1                  -1                    0   \n",
      "2513                   0                   0                    0   \n",
      "\n",
      "      positions_GDX_Short  \n",
      "2504                    0  \n",
      "2505                    0  \n",
      "2506                    0  \n",
      "2507                    0  \n",
      "2508                    0  \n",
      "2509                    0  \n",
      "2510                    0  \n",
      "2511                    0  \n",
      "2512                    0  \n",
      "2513                    0  \n"
     ]
    },
    {
     "data": {
      "image/png": "[encoded data removed]",
      "text/plain": [
       "<Figure size 640x480 with 1 Axes>"
      ]
     },
     "metadata": {},
     "output_type": "display_data"
    }
   ],
   "source": [
    "# Trainset and Testset Sharpe Ratios\n",
    "\n",
    "sharpeTrainset = np.sqrt(252) * np.mean(df['strategy_return'].iloc[:trainset_range]) / np.std(df['strategy_return'].iloc[:trainset_range])\n",
    "print(\"sharpeTrainset:\", sharpeTrainset)\n",
    "sharpeTestset = np.sqrt(252) * np.mean(df['strategy_return'].iloc[trainset_range:]) / np.std(df['strategy_return'].iloc[trainset_range:])\n",
    "print(\"sharpeTestset:\", sharpeTestset)\n",
    "\n",
    "print(df[['positions_GLD_Long', 'positions_GDX_Long',\n",
    "          'positions_GLD_Short', 'positions_GDX_Short']].tail(10))\n",
    "cumret = np.cumprod(1 + df['strategy_return']) - 1\n",
    "plt.plot(cumret)\n",
    "plt.show()"
   ]
  },
  {
   "cell_type": "code",
   "execution_count": 19,
   "id": "8d541072",
   "metadata": {},
   "outputs": [
    {
     "name": "stdout",
     "output_type": "stream",
     "text": [
      "maxDD: -0.26446823168884226\n",
      "maxDDD: 529.0\n",
      "Start of DD: 1480\n"
     ]
    }
   ],
   "source": [
    "from _03_drawdowns import calculateMaxDD\n",
    "\n",
    "maxDD, maxDDD, startDDDay = calculateMaxDD(cumret.values)\n",
    "print(\"maxDD:\", maxDD)\n",
    "print(\"maxDDD:\", maxDDD)\n",
    "print(\"Start of DD:\", startDDDay)\n"
   ]
  }
 ],
 "metadata": {
  "kernelspec": {
   "display_name": ".venv",
   "language": "python",
   "name": "python3"
  },
  "language_info": {
   "codemirror_mode": {
    "name": "ipython",
    "version": 3
   },
   "file_extension": ".py",
   "mimetype": "text/x-python",
   "name": "python",
   "nbconvert_exporter": "python",
   "pygments_lexer": "ipython3",
   "version": "3.13.1"
  }
 },
 "nbformat": 4,
 "nbformat_minor": 5
}
