{
 "cells": [
  {
   "cell_type": "code",
   "execution_count": 1,
   "id": "76dcdeaf",
   "metadata": {},
   "outputs": [
    {
     "name": "stderr",
     "output_type": "stream",
     "text": [
      "c:\\Users\\nickt\\anaconda3\\envs\\my-quant-stack\\lib\\site-packages\\scipy\\__init__.py:146: UserWarning: A NumPy version >=1.17.3 and <1.25.0 is required for this version of SciPy (detected version 1.26.4\n",
      "  warnings.warn(f\"A NumPy version >={np_minversion} and <{np_maxversion}\"\n"
     ]
    },
    {
     "name": "stdout",
     "output_type": "stream",
     "text": [
      "JNJ    -0.040037\n",
      "UNH     0.127909\n",
      "MRK     0.219790\n",
      "NEM     0.674669\n",
      "RGLD    0.772632\n",
      "LLY     0.871589\n",
      "SSRM    1.677509\n",
      "CDE     2.285955\n",
      "Name: beta, dtype: float64\n",
      "CDE     0.001231\n",
      "JNJ    -0.000321\n",
      "LLY     0.000463\n",
      "MRK    -0.000624\n",
      "NEM    -0.000706\n",
      "RGLD   -0.000159\n",
      "SSRM   -0.001715\n",
      "UNH    -0.000221\n",
      "Name: alpha, dtype: float64\n"
     ]
    }
   ],
   "source": [
    "import numpy as np\n",
    "import pandas as pd\n",
    "from openbb import obb\n",
    "import statsmodels.api as sm\n",
    "from statsmodels import regression\n",
    "import matplotlib.pyplot as plt\n",
    "obb.user.preferences.output_type = \"dataframe\"\n",
    "\n",
    "symbols = [\"NEM\",\"RGLD\",\"SSRM\",\"CDE\",\"LLY\",\"UNH\",\"JNJ\",\"MRK\",\"SPY\"]\n",
    "data = obb.equity.price.historical(\n",
    "    symbols,\n",
    "    start_date=\"2024-01-01\",\n",
    "    end_date=\"2025-01-01\",\n",
    "    provider=\"yfinance\"\n",
    ").pivot(columns=\"symbol\",values=\"close\")\n",
    "\n",
    "benchmark_returns = data.pop(\"SPY\").pct_change().dropna()\n",
    "portfolio_returns = data.pct_change().dropna()\n",
    "portfolio_returns.name = \"portfolio\"\n",
    "X = benchmark_returns.values\n",
    "def linreg(x,y):\n",
    "    x = sm.add_constant(x)\n",
    "    model = regression.linear_model.OLS(y,x).fit()\n",
    "    return model.params[0], model.params[1]\n",
    "betas = {}\n",
    "alphas = {}\n",
    "for col in portfolio_returns.columns:\n",
    "    y = portfolio_returns[col].values\n",
    "    alphas[col], betas[col] = linreg(X, y)   # slope vs SPY (beta)\n",
    "\n",
    "betas = pd.Series(betas, name=\"beta\").sort_values()\n",
    "alphas = pd.Series(alphas, name=\"alpha\")\n",
    "print(betas)\n",
    "print(alphas)\n"
   ]
  }
 ],
 "metadata": {
  "kernelspec": {
   "display_name": "my-quant-stack",
   "language": "python",
   "name": "python3"
  },
  "language_info": {
   "codemirror_mode": {
    "name": "ipython",
    "version": 3
   },
   "file_extension": ".py",
   "mimetype": "text/x-python",
   "name": "python",
   "nbconvert_exporter": "python",
   "pygments_lexer": "ipython3",
   "version": "3.10.18"
  }
 },
 "nbformat": 4,
 "nbformat_minor": 5
}
