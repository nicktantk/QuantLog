{
 "cells": [
  {
   "cell_type": "code",
   "execution_count": 23,
   "id": "4a4f81e2",
   "metadata": {},
   "outputs": [
    {
     "data": {
      "text/plain": [
       "41.9993"
      ]
     },
     "execution_count": 23,
     "metadata": {},
     "output_type": "execute_result"
    }
   ],
   "source": [
    "# What is the expected number of rolls of a fair 6-sided die until you see two 5s in a row?\n",
    "\n",
    "import random\n",
    "\n",
    "size = 100000\n",
    "rolls = [0] * size\n",
    "for i in range(size):\n",
    "    count = 0\n",
    "    last_last_roll = None\n",
    "    last_roll = None\n",
    "    while last_roll != 5 or last_last_roll != 5:\n",
    "        last_last_roll = last_roll\n",
    "        last_roll = random.randint(1, 6)\n",
    "        count += 1\n",
    "    rolls[i] = count\n",
    "\n",
    "average_rolls = sum(rolls) / size\n",
    "average_rolls\n"
   ]
  },
  {
   "cell_type": "code",
   "execution_count": 22,
   "id": "48bad000",
   "metadata": {},
   "outputs": [
    {
     "data": {
      "text/plain": [
       "18.82954"
      ]
     },
     "execution_count": 22,
     "metadata": {},
     "output_type": "execute_result"
    }
   ],
   "source": [
    "# You continually roll a fair 10-sided die. \n",
    "# What is the expected number of rolls until the lowest common multiple of all numbers that have appeared is greater than 2000? \n",
    "# (You may give an approximate answer which is close to the true value.)\n",
    "\n",
    "import math\n",
    "import random\n",
    "\n",
    "size = 100000\n",
    "rolls = [0] * size\n",
    "for i in range(size):\n",
    "    count = 0\n",
    "    numbers = set()  # Start with 1 to avoid LCM of empty set\n",
    "    numbers.add(1)\n",
    "    while math.lcm(*numbers) <= 2000:\n",
    "        number = random.randint(1, 10)\n",
    "        numbers.add(number)\n",
    "        count += 1\n",
    "    rolls[i] = count\n",
    "\n",
    "average_rolls = sum(rolls) / size\n",
    "average_rolls"
   ]
  }
 ],
 "metadata": {
  "kernelspec": {
   "display_name": ".venv",
   "language": "python",
   "name": "python3"
  },
  "language_info": {
   "codemirror_mode": {
    "name": "ipython",
    "version": 3
   },
   "file_extension": ".py",
   "mimetype": "text/x-python",
   "name": "python",
   "nbconvert_exporter": "python",
   "pygments_lexer": "ipython3",
   "version": "3.13.1"
  }
 },
 "nbformat": 4,
 "nbformat_minor": 5
}
